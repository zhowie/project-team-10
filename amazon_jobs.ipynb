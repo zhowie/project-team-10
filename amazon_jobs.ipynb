{
 "cells": [
  {
   "cell_type": "code",
   "execution_count": 1,
   "metadata": {
    "collapsed": true
   },
   "outputs": [],
   "source": [
    "#importing required libraries\n",
    "from __future__ import unicode_literals\n",
    "import bs4\n",
    "from bs4 import BeautifulSoup\n",
    "import pandas as pd\n",
    "from selenium import webdriver\n",
    "from selenium.webdriver.chrome.options import Options\n",
    "from selenium.webdriver.chrome.service import Service\n",
    "from webdriver_manager.chrome import ChromeDriverManager\n",
    "import re\n",
    "from collections import OrderedDict\n"
   ]
  },
  {
   "cell_type": "code",
   "execution_count": 2,
   "metadata": {
    "collapsed": true
   },
   "outputs": [],
   "source": [
    "def amazon_job(number_page=10):\n",
    "    \"\"\"\n",
    "    retrieve job title, job location, job posting date, and job link from every page in \n",
    "    https://amazon.jobs.\n",
    "\n",
    "    Arguments:\n",
    "    number_page -- Number of pages that one wish to retrive the data from.\n",
    "\n",
    "    Return:\n",
    "    s -- A tuple including all the job infromation for each job in each page\n",
    "    \"\"\"\n",
    "    \n",
    "    job_title=[]\n",
    "    location=[]\n",
    "    posting_date=[]\n",
    "    job_link=[]\n",
    "\n",
    "    for i in range(number_page):\n",
    "        driver=webdriver.Chrome(service=Service(ChromeDriverManager().install()))\n",
    "        \n",
    "        #There are 10 job postings in each page. Therefore, job pages URL can be updated\n",
    "        #by muliplying the counter (\"i\") by 10.\n",
    "        URL='https://www.amazon.jobs/en/search?offset=\"+str(10*i)+\"&result_limit=10&sort=relevant&job_type%5B%5D=Full-Time&business_category%5B%5D=amazon-web-services&distanceType=Mi&radius=24km&latitude=&longitude=&loc_group_id=&loc_query=&base_query=data%20engineer&city=&country=&region=&county=&query_options=&'\n",
    "    \n",
    "        driver.get(URL)\n",
    "        \n",
    "        soup = BeautifulSoup(driver.page_source, 'html.parser')\n",
    "        \n",
    "        driver.quit()\n",
    "        \n",
    "         \n",
    "        job_title.append([td.find('h3').text for td in soup.findAll(\"div\", {\"class\": \"job-tile\"})])\n",
    "        posting_date.append([re.sub('Posted ', '', td.text) for td in soup.findAll(\"h2\", {\"class\": \"posting-date\"})])\n",
    "        job_link.append(['https://www.amazon.jobs'+td.find('a').get('href') for td in soup.findAll(\"div\", {\"class\": \"job-tile\"})])\n",
    "        \n",
    "           \n",
    "        \n",
    "    return job_title,location,posting_date,job_link"
   ]
  },
  {
   "cell_type": "code",
   "execution_count": 3,
   "metadata": {
    "collapsed": true,
    "scrolled": true
   },
   "outputs": [
    {
     "name": "stdout",
     "output_type": "stream",
     "text": [
      "\n"
     ]
    },
    {
     "name": "stderr",
     "output_type": "stream",
     "text": [
      "[WDM] - ====== WebDriver manager ======\n",
      "[WDM] - Current google-chrome version is 102.0.5005\n",
      "[WDM] - Get LATEST chromedriver version for 102.0.5005 google-chrome\n",
      "[WDM] - Driver [C:\\Users\\Lene\\.wdm\\drivers\\chromedriver\\win32\\102.0.5005.61\\chromedriver.exe] found in cache\n"
     ]
    }
   ],
   "source": [
    "#extracting jobs information. Currently there are 346 pages in amazon.job. \n",
    "job=amazon_job(1)"
   ]
  },
  {
   "cell_type": "code",
   "execution_count": 4,
   "metadata": {
    "collapsed": true
   },
   "outputs": [],
   "source": [
    "def make_list(job):\n",
    "    \"\"\"\n",
    "    put all the job data in alist that can be used to create a DataFrame\n",
    "\n",
    "    Arguments:\n",
    "    job_list -- A tuple containing job title, job location, job posting date, and job link .\n",
    "\n",
    "    Return:\n",
    "    s -- A list containing job information\n",
    "    \"\"\"\n",
    "    t=[]\n",
    "    for i in job:\n",
    "        for b in i:\n",
    "            for c in b:\n",
    "                t.append(c)\n",
    "    return t\n"
   ]
  },
  {
   "cell_type": "code",
   "execution_count": 5,
   "metadata": {},
   "outputs": [
    {
     "name": "stdout",
     "output_type": "stream",
     "text": [
      "['Data Engineer', 'Data Engineer, Data Center Automation', 'Data Engineer', 'Data Engineer', 'Data Engineer, Data Solutions & Engineering, Security', 'Data Engineer, AWS Econ Data', 'Data Engineer, AWS Econ Data', 'Data Engineer', 'Data Engineer', 'Data Engineer', 'October 12, 2021', 'June  1, 2022', 'December  7, 2021', 'January  5, 2021', 'June  1, 2022', 'March 25, 2022', 'March 14, 2022', 'June 18, 2021', 'May  6, 2021', 'October 20, 2021', 'https://www.amazon.jobs/en/jobs/1770158/data-engineer', 'https://www.amazon.jobs/en/jobs/2085517/data-engineer-data-center-automation', 'https://www.amazon.jobs/en/jobs/1841062/data-engineer', 'https://www.amazon.jobs/en/jobs/1391585/data-engineer', 'https://www.amazon.jobs/en/jobs/2085035/data-engineer-data-solutions-engineering-security', 'https://www.amazon.jobs/en/jobs/1999795/data-engineer-aws-econ-data', 'https://www.amazon.jobs/en/jobs/1981936/data-engineer-aws-econ-data', 'https://www.amazon.jobs/en/jobs/1603572/data-engineer', 'https://www.amazon.jobs/en/jobs/1546026/data-engineer', 'https://www.amazon.jobs/en/jobs/1782133/data-engineer']\n"
     ]
    }
   ],
   "source": [
    "#make a list of all job data\n",
    "job_list=make_list(job)\n",
    "len(job_list)\n",
    "print(job_list)"
   ]
  },
  {
   "cell_type": "code",
   "execution_count": 6,
   "metadata": {
    "collapsed": true
   },
   "outputs": [],
   "source": [
    "#Create a dataframe from the job information list\n",
    "def make_dataframe(job_list):\n",
    "    \"\"\"\n",
    "    ceate a dataframe from the job_list\n",
    "    \n",
    "    Arguments:\n",
    "    job_list -- A tuple containing job title, job location, job posting date, and job link .\n",
    "\n",
    "    Return:\n",
    "    df -- A dataframe containing each job description, basic qualification and preferred qualification.\n",
    "    \"\"\"\n",
    "    \n",
    "    l=int(len(job_list))\n",
    "    df=pd.DataFrame(OrderedDict({'Title': job_list[:l],'Posting_date':job_list[2*l:3*l], 'job_link': job_list[3*l:]}))\n",
    "    \n",
    "    print(df)\n",
    "    \n"
   ]
  },
  {
   "cell_type": "code",
   "execution_count": 7,
   "metadata": {
    "collapsed": true
   },
   "outputs": [
    {
     "name": "stdout",
     "output_type": "stream",
     "text": [
      "                                                    0\n",
      "0                                       Data Engineer\n",
      "1               Data Engineer, Data Center Automation\n",
      "2                                       Data Engineer\n",
      "3                                       Data Engineer\n",
      "4   Data Engineer, Data Solutions & Engineering, S...\n",
      "5                        Data Engineer, AWS Econ Data\n",
      "6                        Data Engineer, AWS Econ Data\n",
      "7                                       Data Engineer\n",
      "8                                       Data Engineer\n",
      "9                                       Data Engineer\n",
      "10                                   October 12, 2021\n",
      "11                                      June  1, 2022\n",
      "12                                  December  7, 2021\n",
      "13                                   January  5, 2021\n",
      "14                                      June  1, 2022\n",
      "15                                     March 25, 2022\n",
      "16                                     March 14, 2022\n",
      "17                                      June 18, 2021\n",
      "18                                       May  6, 2021\n",
      "19                                   October 20, 2021\n",
      "20  https://www.amazon.jobs/en/jobs/1770158/data-e...\n",
      "21  https://www.amazon.jobs/en/jobs/2085517/data-e...\n",
      "22  https://www.amazon.jobs/en/jobs/1841062/data-e...\n",
      "23  https://www.amazon.jobs/en/jobs/1391585/data-e...\n",
      "24  https://www.amazon.jobs/en/jobs/2085035/data-e...\n",
      "25  https://www.amazon.jobs/en/jobs/1999795/data-e...\n",
      "26  https://www.amazon.jobs/en/jobs/1981936/data-e...\n",
      "27  https://www.amazon.jobs/en/jobs/1603572/data-e...\n",
      "28  https://www.amazon.jobs/en/jobs/1546026/data-e...\n",
      "29  https://www.amazon.jobs/en/jobs/1782133/data-e...\n"
     ]
    }
   ],
   "source": [
    "#DataFrame containing job title, job location, job posting date, and job link.\n",
    "df1=pd.DataFrame(job_list)\n",
    "df1.transpose()\n",
    "df1.to_csv('df1.csv')\n",
    "print(df1)"
   ]
  },
  {
   "cell_type": "code",
   "execution_count": 8,
   "metadata": {
    "collapsed": true
   },
   "outputs": [],
   "source": [
    "def job_description(job_list):\n",
    "    \"\"\"\n",
    "    retrieving job description, basic qualification and preferred qualification.\n",
    "    we get the job link from the previous job_list and then this function goes to every posted job\n",
    "    page to get each job description, basic qualification and preferred qualification.\n",
    "\n",
    "    Arguments:\n",
    "    job_list -- A tuple containing job title, job location, job posting date, and job link .\n",
    "\n",
    "    Return:\n",
    "    job_information -- A list containing each job description, basic qualification and preferred qualification.\n",
    "    \"\"\"\n",
    "    \n",
    "    l=int(len(job_list)/4)\n",
    "    job_link=job_list[3*l:]\n",
    "    job_information=[]\n",
    "    \n",
    "    \n",
    "    for x in range(l):\n",
    "        driver=webdriver.Chrome(service=Service(ChromeDriverManager().install()))\n",
    "        URL=job_link[x]\n",
    "        driver.get(URL)\n",
    "        \n",
    "        soup = BeautifulSoup(driver.page_source, 'html.parser')\n",
    "        \n",
    "        driver.quit()\n",
    "        \n",
    "        job_information.append([h2.next_sibling for h2 in soup.findAll(\"div\", {\"class\": \"section\"})])\n",
    "        \n",
    "    return job_information"
   ]
  },
  {
   "cell_type": "code",
   "execution_count": 25,
   "metadata": {
    "collapsed": true
   },
   "outputs": [
    {
     "name": "stdout",
     "output_type": "stream",
     "text": [
      "\n"
     ]
    },
    {
     "name": "stderr",
     "output_type": "stream",
     "text": [
      "[WDM] - ====== WebDriver manager ======\n",
      "[WDM] - Current google-chrome version is 102.0.5005\n",
      "[WDM] - Get LATEST chromedriver version for 102.0.5005 google-chrome\n",
      "[WDM] - Driver [C:\\Users\\Lene\\.wdm\\drivers\\chromedriver\\win32\\102.0.5005.61\\chromedriver.exe] found in cache\n"
     ]
    },
    {
     "name": "stdout",
     "output_type": "stream",
     "text": [
      "\n"
     ]
    },
    {
     "name": "stderr",
     "output_type": "stream",
     "text": [
      "[WDM] - ====== WebDriver manager ======\n",
      "[WDM] - Current google-chrome version is 102.0.5005\n",
      "[WDM] - Get LATEST chromedriver version for 102.0.5005 google-chrome\n",
      "[WDM] - Driver [C:\\Users\\Lene\\.wdm\\drivers\\chromedriver\\win32\\102.0.5005.61\\chromedriver.exe] found in cache\n"
     ]
    },
    {
     "name": "stdout",
     "output_type": "stream",
     "text": [
      "\n"
     ]
    },
    {
     "name": "stderr",
     "output_type": "stream",
     "text": [
      "[WDM] - ====== WebDriver manager ======\n",
      "[WDM] - Current google-chrome version is 102.0.5005\n",
      "[WDM] - Get LATEST chromedriver version for 102.0.5005 google-chrome\n",
      "[WDM] - Driver [C:\\Users\\Lene\\.wdm\\drivers\\chromedriver\\win32\\102.0.5005.61\\chromedriver.exe] found in cache\n"
     ]
    },
    {
     "name": "stdout",
     "output_type": "stream",
     "text": [
      "\n"
     ]
    },
    {
     "name": "stderr",
     "output_type": "stream",
     "text": [
      "[WDM] - ====== WebDriver manager ======\n",
      "[WDM] - Current google-chrome version is 102.0.5005\n",
      "[WDM] - Get LATEST chromedriver version for 102.0.5005 google-chrome\n",
      "[WDM] - Driver [C:\\Users\\Lene\\.wdm\\drivers\\chromedriver\\win32\\102.0.5005.61\\chromedriver.exe] found in cache\n"
     ]
    },
    {
     "name": "stdout",
     "output_type": "stream",
     "text": [
      "\n"
     ]
    },
    {
     "name": "stderr",
     "output_type": "stream",
     "text": [
      "[WDM] - ====== WebDriver manager ======\n",
      "[WDM] - Current google-chrome version is 102.0.5005\n",
      "[WDM] - Get LATEST chromedriver version for 102.0.5005 google-chrome\n",
      "[WDM] - Driver [C:\\Users\\Lene\\.wdm\\drivers\\chromedriver\\win32\\102.0.5005.61\\chromedriver.exe] found in cache\n"
     ]
    },
    {
     "name": "stdout",
     "output_type": "stream",
     "text": [
      "\n"
     ]
    },
    {
     "name": "stderr",
     "output_type": "stream",
     "text": [
      "[WDM] - ====== WebDriver manager ======\n",
      "[WDM] - Current google-chrome version is 102.0.5005\n",
      "[WDM] - Get LATEST chromedriver version for 102.0.5005 google-chrome\n",
      "[WDM] - Driver [C:\\Users\\Lene\\.wdm\\drivers\\chromedriver\\win32\\102.0.5005.61\\chromedriver.exe] found in cache\n"
     ]
    },
    {
     "name": "stdout",
     "output_type": "stream",
     "text": [
      "\n"
     ]
    },
    {
     "name": "stderr",
     "output_type": "stream",
     "text": [
      "[WDM] - ====== WebDriver manager ======\n",
      "[WDM] - Current google-chrome version is 102.0.5005\n",
      "[WDM] - Get LATEST chromedriver version for 102.0.5005 google-chrome\n",
      "[WDM] - Driver [C:\\Users\\Lene\\.wdm\\drivers\\chromedriver\\win32\\102.0.5005.61\\chromedriver.exe] found in cache\n"
     ]
    }
   ],
   "source": [
    "job_description=job_description(job_list)"
   ]
  },
  {
   "cell_type": "code",
   "execution_count": 26,
   "metadata": {
    "collapsed": true
   },
   "outputs": [
    {
     "data": {
      "text/html": [
       "<div>\n",
       "<style scoped>\n",
       "    .dataframe tbody tr th:only-of-type {\n",
       "        vertical-align: middle;\n",
       "    }\n",
       "\n",
       "    .dataframe tbody tr th {\n",
       "        vertical-align: top;\n",
       "    }\n",
       "\n",
       "    .dataframe thead th {\n",
       "        text-align: right;\n",
       "    }\n",
       "</style>\n",
       "<table border=\"1\" class=\"dataframe\">\n",
       "  <thead>\n",
       "    <tr style=\"text-align: right;\">\n",
       "      <th></th>\n",
       "      <th>0</th>\n",
       "      <th>1</th>\n",
       "      <th>2</th>\n",
       "      <th>3</th>\n",
       "      <th>4</th>\n",
       "      <th>5</th>\n",
       "      <th>6</th>\n",
       "      <th>7</th>\n",
       "      <th>8</th>\n",
       "    </tr>\n",
       "  </thead>\n",
       "  <tbody>\n",
       "    <tr>\n",
       "      <th>0</th>\n",
       "      <td>[[DESCRIPTION], [Job summary, [], Come and be ...</td>\n",
       "      <td>[[BASIC QUALIFICATIONS], [], [[5+ years of exp...</td>\n",
       "      <td>[[PREFERRED QUALIFICATIONS], [], [[Proven succ...</td>\n",
       "      <td>None</td>\n",
       "      <td>[[], [], [], []]</td>\n",
       "      <td>[[Working At Amazon], [[&lt;a href=\"/en/landing_p...</td>\n",
       "      <td>[[Help], [[&lt;a data-action=\"FAQ\" href=\"/en/faqs...</td>\n",
       "      <td>[[[&lt;div class=\"d-none d-md-block\"&gt;&lt;div class=\"...</td>\n",
       "      <td>None</td>\n",
       "    </tr>\n",
       "    <tr>\n",
       "      <th>1</th>\n",
       "      <td>[[DESCRIPTION], [JOB SUMMARY, [], The AI Data ...</td>\n",
       "      <td>[[BASIC QUALIFICATIONS], [], [[Bachelor's degr...</td>\n",
       "      <td>[[PREFERRED QUALIFICATIONS], [], [[Experience ...</td>\n",
       "      <td>None</td>\n",
       "      <td>[[], [], [], []]</td>\n",
       "      <td>[[Working At Amazon], [[&lt;a href=\"/en/landing_p...</td>\n",
       "      <td>[[Help], [[&lt;a data-action=\"FAQ\" href=\"/en/faqs...</td>\n",
       "      <td>[[[&lt;div class=\"d-none d-md-block\"&gt;&lt;div class=\"...</td>\n",
       "      <td>None</td>\n",
       "    </tr>\n",
       "    <tr>\n",
       "      <th>2</th>\n",
       "      <td>[[DESCRIPTION], [The Amazon Web Services’ (AWS...</td>\n",
       "      <td>[[BASIC QUALIFICATIONS], [], [[Bachelor's degr...</td>\n",
       "      <td>[[PREFERRED QUALIFICATIONS], [], [[Knowledge o...</td>\n",
       "      <td>None</td>\n",
       "      <td>[[], [], [], []]</td>\n",
       "      <td>[[Working At Amazon], [[&lt;a href=\"/en/landing_p...</td>\n",
       "      <td>[[Help], [[&lt;a data-action=\"FAQ\" href=\"/en/faqs...</td>\n",
       "      <td>[[[&lt;div class=\"d-none d-md-block\"&gt;&lt;div class=\"...</td>\n",
       "      <td>None</td>\n",
       "    </tr>\n",
       "    <tr>\n",
       "      <th>3</th>\n",
       "      <td>[[DESCRIPTION], [Job summary, [], At Amazon, S...</td>\n",
       "      <td>[[BASIC QUALIFICATIONS], [], [[Bachelor's degr...</td>\n",
       "      <td>[[PREFERRED QUALIFICATIONS], [], [[Meets/excee...</td>\n",
       "      <td>None</td>\n",
       "      <td>[[], [], [], []]</td>\n",
       "      <td>[[Working At Amazon], [[&lt;a href=\"/en/landing_p...</td>\n",
       "      <td>[[Help], [[&lt;a data-action=\"FAQ\" href=\"/en/faqs...</td>\n",
       "      <td>[[[&lt;div class=\"d-none d-md-block\"&gt;&lt;div class=\"...</td>\n",
       "      <td>None</td>\n",
       "    </tr>\n",
       "    <tr>\n",
       "      <th>4</th>\n",
       "      <td>[[DESCRIPTION], [Job summary, [], AWS is looki...</td>\n",
       "      <td>[[BASIC QUALIFICATIONS], [], [[Bachelor’s degr...</td>\n",
       "      <td>[[PREFERRED QUALIFICATIONS], [], [[Master`s de...</td>\n",
       "      <td>None</td>\n",
       "      <td>[[], [], [], []]</td>\n",
       "      <td>[[Working At Amazon], [[&lt;a href=\"/en/landing_p...</td>\n",
       "      <td>[[Help], [[&lt;a data-action=\"FAQ\" href=\"/en/faqs...</td>\n",
       "      <td>[[[&lt;div class=\"d-none d-md-block\"&gt;&lt;div class=\"...</td>\n",
       "      <td>None</td>\n",
       "    </tr>\n",
       "    <tr>\n",
       "      <th>5</th>\n",
       "      <td>[[DESCRIPTION], [Job summary, [], AWS is looki...</td>\n",
       "      <td>[[BASIC QUALIFICATIONS], [], [[Bachelor’s degr...</td>\n",
       "      <td>[[PREFERRED QUALIFICATIONS], [], [[Master`s de...</td>\n",
       "      <td>None</td>\n",
       "      <td>[[], [], [], []]</td>\n",
       "      <td>[[Working At Amazon], [[&lt;a href=\"/en/landing_p...</td>\n",
       "      <td>[[Help], [[&lt;a data-action=\"FAQ\" href=\"/en/faqs...</td>\n",
       "      <td>[[[&lt;div class=\"d-none d-md-block\"&gt;&lt;div class=\"...</td>\n",
       "      <td>None</td>\n",
       "    </tr>\n",
       "    <tr>\n",
       "      <th>6</th>\n",
       "      <td>[[DESCRIPTION], [The AWS Worldwide Revenue Ope...</td>\n",
       "      <td>[[BASIC QUALIFICATIONS], [[], [], · Bachelor's...</td>\n",
       "      <td>[[PREFERRED QUALIFICATIONS], [· Master’s degre...</td>\n",
       "      <td>None</td>\n",
       "      <td>[[], [], [], []]</td>\n",
       "      <td>[[Working At Amazon], [[&lt;a href=\"/en/landing_p...</td>\n",
       "      <td>[[Help], [[&lt;a data-action=\"FAQ\" href=\"/en/faqs...</td>\n",
       "      <td>[[[&lt;div class=\"d-none d-md-block\"&gt;&lt;div class=\"...</td>\n",
       "      <td>None</td>\n",
       "    </tr>\n",
       "  </tbody>\n",
       "</table>\n",
       "</div>"
      ],
      "text/plain": [
       "                                                   0  \\\n",
       "0  [[DESCRIPTION], [Job summary, [], Come and be ...   \n",
       "1  [[DESCRIPTION], [JOB SUMMARY, [], The AI Data ...   \n",
       "2  [[DESCRIPTION], [The Amazon Web Services’ (AWS...   \n",
       "3  [[DESCRIPTION], [Job summary, [], At Amazon, S...   \n",
       "4  [[DESCRIPTION], [Job summary, [], AWS is looki...   \n",
       "5  [[DESCRIPTION], [Job summary, [], AWS is looki...   \n",
       "6  [[DESCRIPTION], [The AWS Worldwide Revenue Ope...   \n",
       "\n",
       "                                                   1  \\\n",
       "0  [[BASIC QUALIFICATIONS], [], [[5+ years of exp...   \n",
       "1  [[BASIC QUALIFICATIONS], [], [[Bachelor's degr...   \n",
       "2  [[BASIC QUALIFICATIONS], [], [[Bachelor's degr...   \n",
       "3  [[BASIC QUALIFICATIONS], [], [[Bachelor's degr...   \n",
       "4  [[BASIC QUALIFICATIONS], [], [[Bachelor’s degr...   \n",
       "5  [[BASIC QUALIFICATIONS], [], [[Bachelor’s degr...   \n",
       "6  [[BASIC QUALIFICATIONS], [[], [], · Bachelor's...   \n",
       "\n",
       "                                                   2     3                 4  \\\n",
       "0  [[PREFERRED QUALIFICATIONS], [], [[Proven succ...  None  [[], [], [], []]   \n",
       "1  [[PREFERRED QUALIFICATIONS], [], [[Experience ...  None  [[], [], [], []]   \n",
       "2  [[PREFERRED QUALIFICATIONS], [], [[Knowledge o...  None  [[], [], [], []]   \n",
       "3  [[PREFERRED QUALIFICATIONS], [], [[Meets/excee...  None  [[], [], [], []]   \n",
       "4  [[PREFERRED QUALIFICATIONS], [], [[Master`s de...  None  [[], [], [], []]   \n",
       "5  [[PREFERRED QUALIFICATIONS], [], [[Master`s de...  None  [[], [], [], []]   \n",
       "6  [[PREFERRED QUALIFICATIONS], [· Master’s degre...  None  [[], [], [], []]   \n",
       "\n",
       "                                                   5  \\\n",
       "0  [[Working At Amazon], [[<a href=\"/en/landing_p...   \n",
       "1  [[Working At Amazon], [[<a href=\"/en/landing_p...   \n",
       "2  [[Working At Amazon], [[<a href=\"/en/landing_p...   \n",
       "3  [[Working At Amazon], [[<a href=\"/en/landing_p...   \n",
       "4  [[Working At Amazon], [[<a href=\"/en/landing_p...   \n",
       "5  [[Working At Amazon], [[<a href=\"/en/landing_p...   \n",
       "6  [[Working At Amazon], [[<a href=\"/en/landing_p...   \n",
       "\n",
       "                                                   6  \\\n",
       "0  [[Help], [[<a data-action=\"FAQ\" href=\"/en/faqs...   \n",
       "1  [[Help], [[<a data-action=\"FAQ\" href=\"/en/faqs...   \n",
       "2  [[Help], [[<a data-action=\"FAQ\" href=\"/en/faqs...   \n",
       "3  [[Help], [[<a data-action=\"FAQ\" href=\"/en/faqs...   \n",
       "4  [[Help], [[<a data-action=\"FAQ\" href=\"/en/faqs...   \n",
       "5  [[Help], [[<a data-action=\"FAQ\" href=\"/en/faqs...   \n",
       "6  [[Help], [[<a data-action=\"FAQ\" href=\"/en/faqs...   \n",
       "\n",
       "                                                   7     8  \n",
       "0  [[[<div class=\"d-none d-md-block\"><div class=\"...  None  \n",
       "1  [[[<div class=\"d-none d-md-block\"><div class=\"...  None  \n",
       "2  [[[<div class=\"d-none d-md-block\"><div class=\"...  None  \n",
       "3  [[[<div class=\"d-none d-md-block\"><div class=\"...  None  \n",
       "4  [[[<div class=\"d-none d-md-block\"><div class=\"...  None  \n",
       "5  [[[<div class=\"d-none d-md-block\"><div class=\"...  None  \n",
       "6  [[[<div class=\"d-none d-md-block\"><div class=\"...  None  "
      ]
     },
     "execution_count": 26,
     "metadata": {},
     "output_type": "execute_result"
    }
   ],
   "source": [
    "#create a dataframe from the job description, basic qualification and preferred qualification\n",
    "df2=pd.DataFrame(job_description)\n",
    "df2"
   ]
  },
  {
   "cell_type": "code",
   "execution_count": 32,
   "metadata": {
    "collapsed": true
   },
   "outputs": [
    {
     "name": "stderr",
     "output_type": "stream",
     "text": [
      "\n",
      "KeyboardInterrupt\n",
      "\n"
     ]
    }
   ],
   "source": [
    "#combining the two dataframes and save them in a csv file\n",
    "result = pd.concat([df1[['Title','location','Posting_date']], df2[['DESCRIPTION','BASIC QUALIFICATIONS','PREFERRED QUALIFICATIONS']]], axis=1, join='inner')\n",
    "result.to_csv('full_job_amazon.csv')"
   ]
  },
  {
   "cell_type": "code",
   "execution_count": null,
   "metadata": {},
   "outputs": [],
   "source": [
    "ful_job=amazon_job()"
   ]
  },
  {
   "cell_type": "code",
   "execution_count": null,
   "metadata": {
    "collapsed": true
   },
   "outputs": [],
   "source": [
    "ful_job=make_list(ful_job)"
   ]
  },
  {
   "cell_type": "code",
   "execution_count": null,
   "metadata": {
    "collapsed": true
   },
   "outputs": [],
   "source": [
    "df1=make_dataframe(ful_job2)"
   ]
  },
  {
   "cell_type": "code",
   "execution_count": null,
   "metadata": {},
   "outputs": [],
   "source": [
    "ful_job_de=job_description(ful_job2)"
   ]
  },
  {
   "cell_type": "code",
   "execution_count": null,
   "metadata": {
    "collapsed": true
   },
   "outputs": [],
   "source": [
    "df2=pd.DataFrame(ful_job_de, columns=['DESCRIPTION','BASIC QUALIFICATIONS','PREFERRED QUALIFICATIONS'])\n",
    "\n",
    "df2.to_csv('job_link_des.csv')"
   ]
  },
  {
   "cell_type": "code",
   "execution_count": null,
   "metadata": {
    "collapsed": true
   },
   "outputs": [],
   "source": [
    "result = pd.concat([df1[['Title','location','Posting_date']], df2[['DESCRIPTION','BASIC QUALIFICATIONS','PREFERRED QUALIFICATIONS']]], axis=1, join='inner')\n",
    "result.to_csv('full_job_amazon_new.csv')"
   ]
  }
 ],
 "metadata": {
  "kernelspec": {
   "display_name": "Python 3.10.4 ('DS4A')",
   "language": "python",
   "name": "python3"
  },
  "language_info": {
   "codemirror_mode": {
    "name": "ipython",
    "version": 3
   },
   "file_extension": ".py",
   "mimetype": "text/x-python",
   "name": "python",
   "nbconvert_exporter": "python",
   "pygments_lexer": "ipython3",
   "version": "3.10.5"
  },
  "vscode": {
   "interpreter": {
    "hash": "9d07bc2940faeb25f718f5eaa4ba6a9d5c1191e32948eed4888a03d5b355373a"
   }
  }
 },
 "nbformat": 4,
 "nbformat_minor": 2
}
