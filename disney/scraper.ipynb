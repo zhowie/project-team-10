{
 "cells": [
  {
   "cell_type": "code",
   "execution_count": 1,
   "metadata": {},
   "outputs": [
    {
     "name": "stderr",
     "output_type": "stream",
     "text": [
      "\n",
      "\n",
      "====== WebDriver manager ======\n",
      "Current google-chrome version is 100.0.4896\n",
      "Get LATEST chromedriver version for 100.0.4896 google-chrome\n",
      "Driver [C:\\Users\\Lene\\.wdm\\drivers\\chromedriver\\win32\\100.0.4896.60\\chromedriver.exe] found in cache\n",
      "\n",
      "\n",
      "====== WebDriver manager ======\n",
      "Current google-chrome version is 100.0.4896\n",
      "Get LATEST chromedriver version for 100.0.4896 google-chrome\n",
      "Driver [C:\\Users\\Lene\\.wdm\\drivers\\chromedriver\\win32\\100.0.4896.60\\chromedriver.exe] found in cache\n"
     ]
    },
    {
     "name": "stdout",
     "output_type": "stream",
     "text": [
      "[[<selenium.webdriver.remote.webelement.WebElement (session=\"602fca500ffc88de41cd44534e99210d\", element=\"b9d5bef2-900c-4173-a097-e331a621c646\")>], [<selenium.webdriver.remote.webelement.WebElement (session=\"602fca500ffc88de41cd44534e99210d\", element=\"817e3143-f799-4114-9fa0-c63084c9da16\")>], [<selenium.webdriver.remote.webelement.WebElement (session=\"602fca500ffc88de41cd44534e99210d\", element=\"3a2f37f7-6916-477a-ad24-a04b03cc35bc\")>], [<selenium.webdriver.remote.webelement.WebElement (session=\"602fca500ffc88de41cd44534e99210d\", element=\"58309eab-1c9f-408d-a612-e37e3e782095\")>], [<selenium.webdriver.remote.webelement.WebElement (session=\"602fca500ffc88de41cd44534e99210d\", element=\"49613043-1786-4dd3-a0b8-4ae55e70a273\")>], [<selenium.webdriver.remote.webelement.WebElement (session=\"602fca500ffc88de41cd44534e99210d\", element=\"f28f9476-56f0-4535-891e-2959fb5d8285\")>], [<selenium.webdriver.remote.webelement.WebElement (session=\"602fca500ffc88de41cd44534e99210d\", element=\"c6bba326-1d12-4a30-9c5a-4806efba0e36\")>], [<selenium.webdriver.remote.webelement.WebElement (session=\"602fca500ffc88de41cd44534e99210d\", element=\"a7c94796-9ae5-41ca-97ba-80c51c1a6b7a\")>], [<selenium.webdriver.remote.webelement.WebElement (session=\"602fca500ffc88de41cd44534e99210d\", element=\"71b57336-c3fa-4e25-aa6f-c3d1d71b2c9d\")>], [<selenium.webdriver.remote.webelement.WebElement (session=\"602fca500ffc88de41cd44534e99210d\", element=\"02efeacb-d04b-4787-b3e4-0b60f1c76efe\")>], [<selenium.webdriver.remote.webelement.WebElement (session=\"602fca500ffc88de41cd44534e99210d\", element=\"b761868f-b0bc-4c07-80be-ca8290ed7fe7\")>], [<selenium.webdriver.remote.webelement.WebElement (session=\"602fca500ffc88de41cd44534e99210d\", element=\"7fcf9f47-2d46-472c-b8f1-e97719384141\")>], [<selenium.webdriver.remote.webelement.WebElement (session=\"602fca500ffc88de41cd44534e99210d\", element=\"3c5f2980-5982-4202-ad72-dba6350b143f\")>], [<selenium.webdriver.remote.webelement.WebElement (session=\"602fca500ffc88de41cd44534e99210d\", element=\"d4f6c5cf-42fd-4374-9039-dd3c350919ab\")>], [<selenium.webdriver.remote.webelement.WebElement (session=\"602fca500ffc88de41cd44534e99210d\", element=\"e383114d-e00e-4056-a2e4-1e0ca23679de\")>], []]\n"
     ]
    }
   ],
   "source": [
    "%run run.py"
   ]
  }
 ],
 "metadata": {
  "interpreter": {
   "hash": "40a691230da1c6071d47f00c335234a39dafb26ab4ca9d120982ab3b9e97a85c"
  },
  "kernelspec": {
   "display_name": "Python 3.10.4 ('scrape': venv)",
   "language": "python",
   "name": "python3"
  },
  "language_info": {
   "codemirror_mode": {
    "name": "ipython",
    "version": 3
   },
   "file_extension": ".py",
   "mimetype": "text/x-python",
   "name": "python",
   "nbconvert_exporter": "python",
   "pygments_lexer": "ipython3",
   "version": "3.10.4"
  }
 },
 "nbformat": 4,
 "nbformat_minor": 5
}
